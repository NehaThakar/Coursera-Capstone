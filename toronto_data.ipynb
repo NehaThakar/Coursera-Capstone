{
    "nbformat_minor": 1, 
    "cells": [
        {
            "source": "### Importing and installing the required libraries\nThis Notebook gets the data from the Wikipedia about the postcodes, boroughs and neighborhoods of Toronto available at https://en.wikipedia.org/wiki/List_of_postal_codes_of_Canada:_M\n", 
            "cell_type": "markdown", 
            "metadata": {
                "collapsed": true
            }
        }, 
        {
            "execution_count": 2, 
            "cell_type": "code", 
            "metadata": {}, 
            "outputs": [], 
            "source": "import requests\n# !pip install beautifulsoup4 ## for reading the data from the website\n# !pip install html5lib  # installing the parser required to parse the html files\nfrom bs4 import BeautifulSoup"
        }, 
        {
            "execution_count": 4, 
            "cell_type": "code", 
            "metadata": {}, 
            "outputs": [], 
            "source": "url = requests.get('https://en.wikipedia.org/wiki/List_of_postal_codes_of_Canada:_M').text\nsoup = BeautifulSoup(url, 'html5lib')\n#print(soup.prettify)  ## this lets you see the tags nesting and identify the table in the html file which is under the class 'wikitable sortable'"
        }, 
        {
            "execution_count": 5, 
            "cell_type": "code", 
            "metadata": {}, 
            "outputs": [], 
            "source": "# Under the class, we find the layout of the table needed and the table data in html scripting\nmy_table = soup.find('table', {'class': 'wikitable sortable'})"
        }, 
        {
            "source": "#### Explanation of the arrangement of table contents in the html file.\nObserving carefully, we get to know that the rows are defined between <tr> and </tr> and the cell-values are defined between <td> and </td>.\nThe name of the boroughs and neighborhoods are defined in links between <a> and </a>.\nIgnoring the 'Not Assigned' values of boroughs and asigning the borough name to the neighborhood with 'Not Assigned' value.", 
            "cell_type": "markdown", 
            "metadata": {}
        }, 
        {
            "execution_count": 8, 
            "cell_type": "code", 
            "metadata": {}, 
            "outputs": [
                {
                    "output_type": "stream", 
                    "name": "stdout", 
                    "text": "['M3A', 'M4A', 'M5A', 'M5A', 'M6A', 'M6A', 'M7A', 'M9A', 'M1B', 'M1B']\n['North York', 'North York', 'Downtown Toronto', 'Downtown Toronto', 'North York', 'North York', \"Queen's Park\", 'Etobicoke', 'Scarborough', 'Scarborough']\n['Parkwoods', 'Victoria Village', 'Harbourfront', 'Regent Park', 'Lawrence Heights', 'Lawrence Manor', \"Queen's Park\", 'Islington Avenue', 'Rouge', 'Malvern']\n"
                }
            ], 
            "source": "# Looking for the rows by tracing 'tr' and getting the rows in the variable 'table_rows'\ntable_rows = my_table.find_all('tr')\n\n# defining three lists, postcode, borough, neighborhood to store the respective infromation extracted from the html file\npostcode = []\nborough = []\nneighborhood = []\n\n# running the for loop to get the contents of each row\nfor row in table_rows:\n    row_values = row.find_all('td')  # each row value is specified between <td> and </td>\n    \n    if len(row_values) != 0:  #Ignoring the heading \n        cell_values = row.find_all('a')  # since the borough and neighborhood are defined in the links between <a> and </a>\n        \n        if (len(cell_values) == 1):   # If neighborhood name is 'Not Assigned'\n            postcode.append(row_values[0].find(text=True))  #find(text=True) returns the contens which is pure text and no formating of html\n            borough.append(row_values[1].find(text=True))\n            neighborhood.append(row_values[1].find(text=True)) # assigning the name of borough to the neighborhood as the in the table the neighborhood name is 'Not Assigned'\n        elif (len(cell_values) == 2):\n            postcode.append(row_values[0].find(text=True))  \n            borough.append(row_values[1].find(text=True))\n            neighborhood.append(row_values[2].find(text=True))\n\nprint(postcode[:10])\nprint(borough[:10])\nprint(neighborhood[:10])\n\n    "
        }, 
        {
            "source": "#### Creating an empty dataframe and assigning columns with values from the above three lists", 
            "cell_type": "markdown", 
            "metadata": {}
        }, 
        {
            "execution_count": 11, 
            "cell_type": "code", 
            "metadata": {}, 
            "outputs": [
                {
                    "execution_count": 11, 
                    "metadata": {}, 
                    "data": {
                        "text/html": "<div>\n<style scoped>\n    .dataframe tbody tr th:only-of-type {\n        vertical-align: middle;\n    }\n\n    .dataframe tbody tr th {\n        vertical-align: top;\n    }\n\n    .dataframe thead th {\n        text-align: right;\n    }\n</style>\n<table border=\"1\" class=\"dataframe\">\n  <thead>\n    <tr style=\"text-align: right;\">\n      <th></th>\n      <th>PostalCode</th>\n      <th>Borough</th>\n      <th>Neighborhood</th>\n    </tr>\n  </thead>\n  <tbody>\n    <tr>\n      <th>0</th>\n      <td>M3A</td>\n      <td>North York</td>\n      <td>Parkwoods</td>\n    </tr>\n    <tr>\n      <th>1</th>\n      <td>M4A</td>\n      <td>North York</td>\n      <td>Victoria Village</td>\n    </tr>\n    <tr>\n      <th>2</th>\n      <td>M5A</td>\n      <td>Downtown Toronto</td>\n      <td>Harbourfront</td>\n    </tr>\n    <tr>\n      <th>3</th>\n      <td>M5A</td>\n      <td>Downtown Toronto</td>\n      <td>Regent Park</td>\n    </tr>\n    <tr>\n      <th>4</th>\n      <td>M6A</td>\n      <td>North York</td>\n      <td>Lawrence Heights</td>\n    </tr>\n  </tbody>\n</table>\n</div>", 
                        "text/plain": "  PostalCode           Borough      Neighborhood\n0        M3A        North York         Parkwoods\n1        M4A        North York  Victoria Village\n2        M5A  Downtown Toronto      Harbourfront\n3        M5A  Downtown Toronto       Regent Park\n4        M6A        North York  Lawrence Heights"
                    }, 
                    "output_type": "execute_result"
                }
            ], 
            "source": "import pandas as pd\ndf = pd.DataFrame()\ndf['PostalCode'] = postcode\ndf['Borough'] = borough\ndf['Neighborhood'] = neighborhood\n\ndf.head()"
        }, 
        {
            "source": "#### Merging the duplicate boroughs with the same postcode, to have the names of the neighborhoods as a list seperated by commas", 
            "cell_type": "markdown", 
            "metadata": {}
        }, 
        {
            "execution_count": 13, 
            "cell_type": "code", 
            "metadata": {}, 
            "outputs": [
                {
                    "execution_count": 13, 
                    "metadata": {}, 
                    "data": {
                        "text/html": "<div>\n<style scoped>\n    .dataframe tbody tr th:only-of-type {\n        vertical-align: middle;\n    }\n\n    .dataframe tbody tr th {\n        vertical-align: top;\n    }\n\n    .dataframe thead th {\n        text-align: right;\n    }\n</style>\n<table border=\"1\" class=\"dataframe\">\n  <thead>\n    <tr style=\"text-align: right;\">\n      <th></th>\n      <th>PostalCode</th>\n      <th>Borough</th>\n      <th>Neighborhood</th>\n    </tr>\n  </thead>\n  <tbody>\n    <tr>\n      <th>0</th>\n      <td>M1B</td>\n      <td>Scarborough</td>\n      <td>Rouge, Malvern</td>\n    </tr>\n    <tr>\n      <th>1</th>\n      <td>M1C</td>\n      <td>Scarborough</td>\n      <td>Highland Creek, Rouge Hill, Port Union</td>\n    </tr>\n    <tr>\n      <th>2</th>\n      <td>M1E</td>\n      <td>Scarborough</td>\n      <td>Scarborough, Morningside, West Hill</td>\n    </tr>\n    <tr>\n      <th>3</th>\n      <td>M1G</td>\n      <td>Scarborough</td>\n      <td>Woburn</td>\n    </tr>\n    <tr>\n      <th>4</th>\n      <td>M1H</td>\n      <td>Scarborough</td>\n      <td>Scarborough</td>\n    </tr>\n    <tr>\n      <th>5</th>\n      <td>M1J</td>\n      <td>Scarborough</td>\n      <td>Scarborough Village</td>\n    </tr>\n    <tr>\n      <th>6</th>\n      <td>M1K</td>\n      <td>Scarborough</td>\n      <td>Scarborough, Ionview, Kennedy Park</td>\n    </tr>\n    <tr>\n      <th>7</th>\n      <td>M1L</td>\n      <td>Scarborough</td>\n      <td>Clairlea, Golden Mile, Oakridge</td>\n    </tr>\n    <tr>\n      <th>8</th>\n      <td>M1M</td>\n      <td>Scarborough</td>\n      <td>Cliffcrest, Cliffside, Scarborough</td>\n    </tr>\n    <tr>\n      <th>9</th>\n      <td>M1N</td>\n      <td>Scarborough</td>\n      <td>Birch Cliff, Scarborough</td>\n    </tr>\n    <tr>\n      <th>10</th>\n      <td>M1P</td>\n      <td>Scarborough</td>\n      <td>Dorset Park, Scarborough Town Centre, Wexford ...</td>\n    </tr>\n    <tr>\n      <th>11</th>\n      <td>M1R</td>\n      <td>Scarborough</td>\n      <td>Maryvale, Wexford</td>\n    </tr>\n    <tr>\n      <th>12</th>\n      <td>M1S</td>\n      <td>Scarborough</td>\n      <td>Agincourt</td>\n    </tr>\n    <tr>\n      <th>13</th>\n      <td>M1T</td>\n      <td>Scarborough</td>\n      <td>Scarborough, Scarborough, Tam O'Shanter</td>\n    </tr>\n    <tr>\n      <th>14</th>\n      <td>M1V</td>\n      <td>Scarborough</td>\n      <td>Agincourt North, Scarborough, Milliken, Scarbo...</td>\n    </tr>\n    <tr>\n      <th>15</th>\n      <td>M1W</td>\n      <td>Scarborough</td>\n      <td>Scarborough</td>\n    </tr>\n    <tr>\n      <th>16</th>\n      <td>M1X</td>\n      <td>Scarborough</td>\n      <td>Upper Rouge</td>\n    </tr>\n    <tr>\n      <th>17</th>\n      <td>M2H</td>\n      <td>North York</td>\n      <td>Hillcrest Village</td>\n    </tr>\n    <tr>\n      <th>18</th>\n      <td>M2J</td>\n      <td>North York</td>\n      <td>North York, Henry Farm, North York</td>\n    </tr>\n    <tr>\n      <th>19</th>\n      <td>M2K</td>\n      <td>North York</td>\n      <td>Bayview Village</td>\n    </tr>\n    <tr>\n      <th>20</th>\n      <td>M2L</td>\n      <td>North York</td>\n      <td>North York, York Mills</td>\n    </tr>\n    <tr>\n      <th>21</th>\n      <td>M2M</td>\n      <td>North York</td>\n      <td>Newtonbrook, Willowdale</td>\n    </tr>\n    <tr>\n      <th>22</th>\n      <td>M2N</td>\n      <td>North York</td>\n      <td>North York</td>\n    </tr>\n    <tr>\n      <th>23</th>\n      <td>M2P</td>\n      <td>North York</td>\n      <td>North York</td>\n    </tr>\n    <tr>\n      <th>24</th>\n      <td>M2R</td>\n      <td>North York</td>\n      <td>Willowdale West</td>\n    </tr>\n    <tr>\n      <th>25</th>\n      <td>M3A</td>\n      <td>North York</td>\n      <td>Parkwoods</td>\n    </tr>\n    <tr>\n      <th>26</th>\n      <td>M3B</td>\n      <td>North York</td>\n      <td>North York</td>\n    </tr>\n    <tr>\n      <th>27</th>\n      <td>M3C</td>\n      <td>North York</td>\n      <td>Flemingdon Park, North York</td>\n    </tr>\n    <tr>\n      <th>28</th>\n      <td>M3H</td>\n      <td>North York</td>\n      <td>Bathurst Manor, North York, Wilson Heights</td>\n    </tr>\n    <tr>\n      <th>29</th>\n      <td>M3J</td>\n      <td>North York</td>\n      <td>Northwood Park, York University</td>\n    </tr>\n    <tr>\n      <th>...</th>\n      <td>...</td>\n      <td>...</td>\n      <td>...</td>\n    </tr>\n    <tr>\n      <th>71</th>\n      <td>M6A</td>\n      <td>North York</td>\n      <td>Lawrence Heights, Lawrence Manor</td>\n    </tr>\n    <tr>\n      <th>72</th>\n      <td>M6B</td>\n      <td>North York</td>\n      <td>North York</td>\n    </tr>\n    <tr>\n      <th>73</th>\n      <td>M6C</td>\n      <td>York</td>\n      <td>York</td>\n    </tr>\n    <tr>\n      <th>74</th>\n      <td>M6G</td>\n      <td>Downtown Toronto</td>\n      <td>Downtown Toronto</td>\n    </tr>\n    <tr>\n      <th>75</th>\n      <td>M6H</td>\n      <td>West Toronto</td>\n      <td>Dovercourt Village, West Toronto</td>\n    </tr>\n    <tr>\n      <th>76</th>\n      <td>M6J</td>\n      <td>West Toronto</td>\n      <td>Little Portugal, Trinity</td>\n    </tr>\n    <tr>\n      <th>77</th>\n      <td>M6K</td>\n      <td>West Toronto</td>\n      <td>West Toronto, Exhibition Place, Parkdale Village</td>\n    </tr>\n    <tr>\n      <th>78</th>\n      <td>M6L</td>\n      <td>North York</td>\n      <td>Downsview, North York, North York</td>\n    </tr>\n    <tr>\n      <th>79</th>\n      <td>M6M</td>\n      <td>York</td>\n      <td>York, Keelesdale, Mount Dennis, Silverthorn</td>\n    </tr>\n    <tr>\n      <th>80</th>\n      <td>M6N</td>\n      <td>York</td>\n      <td>York, York</td>\n    </tr>\n    <tr>\n      <th>81</th>\n      <td>M6P</td>\n      <td>West Toronto</td>\n      <td>High Park, West Toronto</td>\n    </tr>\n    <tr>\n      <th>82</th>\n      <td>M6R</td>\n      <td>West Toronto</td>\n      <td>Parkdale, Roncesvalles</td>\n    </tr>\n    <tr>\n      <th>83</th>\n      <td>M6S</td>\n      <td>West Toronto</td>\n      <td>Runnymede, Swansea</td>\n    </tr>\n    <tr>\n      <th>84</th>\n      <td>M7A</td>\n      <td>Queen's Park</td>\n      <td>Queen's Park</td>\n    </tr>\n    <tr>\n      <th>85</th>\n      <td>M7Y</td>\n      <td>East Toronto</td>\n      <td>East Toronto</td>\n    </tr>\n    <tr>\n      <th>86</th>\n      <td>M8V</td>\n      <td>Etobicoke</td>\n      <td>Etobicoke, Etobicoke, New Toronto</td>\n    </tr>\n    <tr>\n      <th>87</th>\n      <td>M8W</td>\n      <td>Etobicoke</td>\n      <td>Alderwood, Long Branch</td>\n    </tr>\n    <tr>\n      <th>88</th>\n      <td>M8X</td>\n      <td>Etobicoke</td>\n      <td>The Kingsway, Etobicoke, Etobicoke</td>\n    </tr>\n    <tr>\n      <th>89</th>\n      <td>M8Y</td>\n      <td>Etobicoke</td>\n      <td>Humber Bay, Etobicoke, Etobicoke, Mimico NE, O...</td>\n    </tr>\n    <tr>\n      <th>90</th>\n      <td>M8Z</td>\n      <td>Etobicoke</td>\n      <td>Etobicoke, Mimico NW, The Queensway West, Etob...</td>\n    </tr>\n    <tr>\n      <th>91</th>\n      <td>M9A</td>\n      <td>Etobicoke</td>\n      <td>Islington Avenue</td>\n    </tr>\n    <tr>\n      <th>92</th>\n      <td>M9B</td>\n      <td>Etobicoke</td>\n      <td>Etobicoke, Islington, Etobicoke, Princess Gard...</td>\n    </tr>\n    <tr>\n      <th>93</th>\n      <td>M9C</td>\n      <td>Etobicoke</td>\n      <td>Etobicoke, Etobicoke, Markland Wood, Etobicoke</td>\n    </tr>\n    <tr>\n      <th>94</th>\n      <td>M9L</td>\n      <td>North York</td>\n      <td>Humber Summit</td>\n    </tr>\n    <tr>\n      <th>95</th>\n      <td>M9M</td>\n      <td>North York</td>\n      <td>Emery, Humberlea</td>\n    </tr>\n    <tr>\n      <th>96</th>\n      <td>M9N</td>\n      <td>York</td>\n      <td>Weston</td>\n    </tr>\n    <tr>\n      <th>97</th>\n      <td>M9P</td>\n      <td>Etobicoke</td>\n      <td>Etobicoke</td>\n    </tr>\n    <tr>\n      <th>98</th>\n      <td>M9R</td>\n      <td>Etobicoke</td>\n      <td>Kingsview Village, Etobicoke, Etobicoke, Etobi...</td>\n    </tr>\n    <tr>\n      <th>99</th>\n      <td>M9V</td>\n      <td>Etobicoke</td>\n      <td>Etobicoke, Beaumond Heights, Etobicoke, Jamest...</td>\n    </tr>\n    <tr>\n      <th>100</th>\n      <td>M9W</td>\n      <td>Etobicoke</td>\n      <td>Etobicoke</td>\n    </tr>\n  </tbody>\n</table>\n<p>101 rows \u00d7 3 columns</p>\n</div>", 
                        "text/plain": "    PostalCode           Borough  \\\n0          M1B       Scarborough   \n1          M1C       Scarborough   \n2          M1E       Scarborough   \n3          M1G       Scarborough   \n4          M1H       Scarborough   \n5          M1J       Scarborough   \n6          M1K       Scarborough   \n7          M1L       Scarborough   \n8          M1M       Scarborough   \n9          M1N       Scarborough   \n10         M1P       Scarborough   \n11         M1R       Scarborough   \n12         M1S       Scarborough   \n13         M1T       Scarborough   \n14         M1V       Scarborough   \n15         M1W       Scarborough   \n16         M1X       Scarborough   \n17         M2H        North York   \n18         M2J        North York   \n19         M2K        North York   \n20         M2L        North York   \n21         M2M        North York   \n22         M2N        North York   \n23         M2P        North York   \n24         M2R        North York   \n25         M3A        North York   \n26         M3B        North York   \n27         M3C        North York   \n28         M3H        North York   \n29         M3J        North York   \n..         ...               ...   \n71         M6A        North York   \n72         M6B        North York   \n73         M6C              York   \n74         M6G  Downtown Toronto   \n75         M6H      West Toronto   \n76         M6J      West Toronto   \n77         M6K      West Toronto   \n78         M6L        North York   \n79         M6M              York   \n80         M6N              York   \n81         M6P      West Toronto   \n82         M6R      West Toronto   \n83         M6S      West Toronto   \n84         M7A      Queen's Park   \n85         M7Y      East Toronto   \n86         M8V         Etobicoke   \n87         M8W         Etobicoke   \n88         M8X         Etobicoke   \n89         M8Y         Etobicoke   \n90         M8Z         Etobicoke   \n91         M9A         Etobicoke   \n92         M9B         Etobicoke   \n93         M9C         Etobicoke   \n94         M9L        North York   \n95         M9M        North York   \n96         M9N              York   \n97         M9P         Etobicoke   \n98         M9R         Etobicoke   \n99         M9V         Etobicoke   \n100        M9W         Etobicoke   \n\n                                          Neighborhood  \n0                                       Rouge, Malvern  \n1               Highland Creek, Rouge Hill, Port Union  \n2                  Scarborough, Morningside, West Hill  \n3                                               Woburn  \n4                                          Scarborough  \n5                                  Scarborough Village  \n6                   Scarborough, Ionview, Kennedy Park  \n7                      Clairlea, Golden Mile, Oakridge  \n8                   Cliffcrest, Cliffside, Scarborough  \n9                             Birch Cliff, Scarborough  \n10   Dorset Park, Scarborough Town Centre, Wexford ...  \n11                                   Maryvale, Wexford  \n12                                           Agincourt  \n13             Scarborough, Scarborough, Tam O'Shanter  \n14   Agincourt North, Scarborough, Milliken, Scarbo...  \n15                                         Scarborough  \n16                                         Upper Rouge  \n17                                   Hillcrest Village  \n18                  North York, Henry Farm, North York  \n19                                     Bayview Village  \n20                              North York, York Mills  \n21                             Newtonbrook, Willowdale  \n22                                          North York  \n23                                          North York  \n24                                     Willowdale West  \n25                                           Parkwoods  \n26                                          North York  \n27                         Flemingdon Park, North York  \n28          Bathurst Manor, North York, Wilson Heights  \n29                     Northwood Park, York University  \n..                                                 ...  \n71                    Lawrence Heights, Lawrence Manor  \n72                                          North York  \n73                                                York  \n74                                    Downtown Toronto  \n75                    Dovercourt Village, West Toronto  \n76                            Little Portugal, Trinity  \n77    West Toronto, Exhibition Place, Parkdale Village  \n78                   Downsview, North York, North York  \n79         York, Keelesdale, Mount Dennis, Silverthorn  \n80                                          York, York  \n81                             High Park, West Toronto  \n82                              Parkdale, Roncesvalles  \n83                                  Runnymede, Swansea  \n84                                        Queen's Park  \n85                                        East Toronto  \n86                   Etobicoke, Etobicoke, New Toronto  \n87                              Alderwood, Long Branch  \n88                  The Kingsway, Etobicoke, Etobicoke  \n89   Humber Bay, Etobicoke, Etobicoke, Mimico NE, O...  \n90   Etobicoke, Mimico NW, The Queensway West, Etob...  \n91                                    Islington Avenue  \n92   Etobicoke, Islington, Etobicoke, Princess Gard...  \n93      Etobicoke, Etobicoke, Markland Wood, Etobicoke  \n94                                       Humber Summit  \n95                                    Emery, Humberlea  \n96                                              Weston  \n97                                           Etobicoke  \n98   Kingsview Village, Etobicoke, Etobicoke, Etobi...  \n99   Etobicoke, Beaumond Heights, Etobicoke, Jamest...  \n100                                          Etobicoke  \n\n[101 rows x 3 columns]"
                    }, 
                    "output_type": "execute_result"
                }
            ], 
            "source": "# Grouping by postcode, letting the borough name the same and joining the neighborhood names using ','\ndf = df.groupby('PostalCode').agg({'Borough':'first', 'Neighborhood': ', '.join}).reset_index()\ndf"
        }, 
        {
            "execution_count": 14, 
            "cell_type": "code", 
            "metadata": {}, 
            "outputs": [
                {
                    "output_type": "stream", 
                    "name": "stdout", 
                    "text": "The number of rows in the dataframe are : 101\n"
                }
            ], 
            "source": "print('The number of rows in the dataframe are :', df.shape[0])"
        }, 
        {
            "execution_count": null, 
            "cell_type": "code", 
            "metadata": {}, 
            "outputs": [], 
            "source": ""
        }
    ], 
    "metadata": {
        "kernelspec": {
            "display_name": "Python 3.6", 
            "name": "python3", 
            "language": "python"
        }, 
        "language_info": {
            "mimetype": "text/x-python", 
            "nbconvert_exporter": "python", 
            "version": "3.6.8", 
            "name": "python", 
            "file_extension": ".py", 
            "pygments_lexer": "ipython3", 
            "codemirror_mode": {
                "version": 3, 
                "name": "ipython"
            }
        }
    }, 
    "nbformat": 4
}