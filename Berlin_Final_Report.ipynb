{
    "nbformat_minor": 1, 
    "cells": [
        {
            "source": "# A guide to tourists ----- Berlin\n## Tourist Places and nearby top 10 popular destinations", 
            "cell_type": "markdown", 
            "metadata": {
                "collapsed": true
            }
        }, 
        {
            "source": "### The Final Report ", 
            "cell_type": "markdown", 
            "metadata": {}
        }, 
        {
            "source": "### Business Problem\nA guide to the tourists of Berlin to the 12 famous tourists sights. The tourists will find this helpful to know the famous spots of Berlin.\nEach of the 12 tourists spots are equipped with the most popular destinations nearby, including places to eat, shop and visit so as to take the full advantage of their\nvisit to a place.", 
            "cell_type": "markdown", 
            "metadata": {}
        }, 
        {
            "execution_count": null, 
            "cell_type": "code", 
            "metadata": {}, 
            "outputs": [], 
            "source": ""
        }
    ], 
    "metadata": {
        "kernelspec": {
            "display_name": "Python 3.6", 
            "name": "python3", 
            "language": "python"
        }, 
        "language_info": {
            "mimetype": "text/x-python", 
            "nbconvert_exporter": "python", 
            "version": "3.6.8", 
            "name": "python", 
            "file_extension": ".py", 
            "pygments_lexer": "ipython3", 
            "codemirror_mode": {
                "version": 3, 
                "name": "ipython"
            }
        }
    }, 
    "nbformat": 4
}